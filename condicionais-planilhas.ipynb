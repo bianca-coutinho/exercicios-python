{
  "nbformat": 4,
  "nbformat_minor": 0,
  "metadata": {
    "colab": {
      "private_outputs": true,
      "provenance": [],
      "include_colab_link": true
    },
    "kernelspec": {
      "name": "python3",
      "display_name": "Python 3"
    }
  },
  "cells": [
    {
      "cell_type": "markdown",
      "metadata": {
        "id": "view-in-github",
        "colab_type": "text"
      },
      "source": [
        "<a href=\"https://colab.research.google.com/github/bianca-coutinho/exercicios-python/blob/main/exercicios-resolvidos-condicionais-planilhas.ipynb\" target=\"_parent\"><img src=\"https://colab.research.google.com/assets/colab-badge.svg\" alt=\"Open In Colab\"/></a>"
      ]
    },
    {
      "cell_type": "markdown",
      "metadata": {
        "id": "IEhqtSfbSYFK"
      },
      "source": [
        "## Exercício 1"
      ]
    },
    {
      "cell_type": "markdown",
      "metadata": {
        "id": "tfdbISKPR68t"
      },
      "source": [
        "O código abaixo\n",
        "\n",
        "- leia a planilha https://drive.google.com/u/1/uc?id=1ASOWhw5tp-kUbZcIlkg5eCKwZNJt6MwQ&export=download\n",
        "(que tem 3 colunas: Prova 1 , Prova 2 e Trabalho)\n",
        "\n",
        "- cria uma coluna nova com o rótulo \"Media\" contendo a **média simples** entre Prova 1, Prova 2 e Trabalho, caso o usuário digitar letra S"
      ]
    },
    {
      "cell_type": "code",
      "metadata": {
        "id": "jDklNvn1lUUH"
      },
      "source": [
        "import pandas as pd\n",
        "\n",
        "df = pd.read_csv(\"https://drive.google.com/u/1/uc?id=1ASOWhw5tp-kUbZcIlkg5eCKwZNJt6MwQ&export=download\")\n",
        "\n",
        "# receba opcao S ou N do usuario\n",
        "opcao = input(\"Calcular média? Digite S para sim e N para não. \")\n",
        "\n",
        "if opcao==\"S\":\n",
        "  # cria uma coluna nova com o rotulo Media, se o usuario digitou opcao S\n",
        "  df[\"Media\"] = (df[\"Prova 1\"]+df[\"Prova 2\"]+ df[\"Trabalho\"])/3\n",
        "\n",
        "df"
      ],
      "execution_count": null,
      "outputs": []
    },
    {
      "cell_type": "markdown",
      "metadata": {
        "id": "xEl12cqKl6lQ"
      },
      "source": [
        "\n",
        "Modifique o código acima para que se o usuário digitou S, ele também deve digitar os pesos da Prova 1, Prova 2 e Trabalho.\n",
        "\n",
        "Os pesos são números inteiros.\n",
        "\n",
        "A coluna da média deve calcular a **média ponderada** com esses pesos."
      ]
    },
    {
      "cell_type": "code",
      "metadata": {
        "id": "N1ZG05M9VVLJ"
      },
      "source": [
        "import pandas as pd\n",
        "\n",
        "df = pd.read_csv(\"https://drive.google.com/u/1/uc?id=1ASOWhw5tp-kUbZcIlkg5eCKwZNJt6MwQ&export=download\")\n",
        "\n",
        "# receba opcao S ou N do usuario\n",
        "opcao = input(\"Calcular média? Digite S para sim e N para não. \")\n",
        "\n",
        "if opcao==\"S\":\n",
        "  # leitura de pesos\n",
        "  pesoPr1 = int(input(\"Digite o peso da Prova 1 \"))   # pesos sao inteiros\n",
        "  pesoPr2 = int(input(\"Digite o peso da Prova 2 \"))\n",
        "  pesoTr = int(input(\"Digite o peso do Trabalho \"))\n",
        "  # calculo de soma de pesos\n",
        "  soma = pesoPr1+pesoPr2+pesoTr\n",
        "  # cria uma coluna nova com o rotulo Media que contem a media ponderada, se o usuario digitou opcao S\n",
        "  df[\"Media\"] = (pesoPr1*df[\"Prova 1\"]+pesoPr2*df[\"Prova 2\"]+ pesoTr*df[\"Trabalho\"])/soma\n",
        "\n",
        "# imprima a coluna inteira\n",
        "df"
      ],
      "execution_count": null,
      "outputs": []
    },
    {
      "cell_type": "markdown",
      "metadata": {
        "id": "wG72Jc6O-da2"
      },
      "source": [
        "## Exercício 2\n",
        "\n",
        "Modifique os códigos de Exercício 1 para que\n",
        "- se o usuário digitar S, é calculada média simples\n",
        "- caso contrário, é calculada média ponderada com pesos que o usuário tenha que digitar"
      ]
    },
    {
      "cell_type": "code",
      "metadata": {
        "id": "i-CM5rf7yGqE"
      },
      "source": [
        "import pandas as pd\n",
        "\n",
        "df = pd.read_csv(\"https://drive.google.com/u/1/uc?id=1ASOWhw5tp-kUbZcIlkg5eCKwZNJt6MwQ&export=download\")\n",
        "\n",
        "opcao = input(\"Calcular média Simples ou Ponderada (S/P)? \")\n",
        "\n",
        "if opcao==\"S\":\n",
        "  # media simples\n",
        "  df[\"Media\"] = (df[\"Prova 1\"]+df[\"Prova 2\"]+ df[\"Trabalho\"])/3\n",
        "else:\n",
        "  # media ponderada\n",
        "  # leitura de pesos\n",
        "  pesoPr1 = int(input(\"Digite o peso da Prova 1 \"))   # pesos sao inteiros\n",
        "  pesoPr2 = int(input(\"Digite o peso da Prova 2 \"))\n",
        "  pesoTr = int(input(\"Digite o peso do Trabalho \"))\n",
        "  # calculo de soma de pesos\n",
        "  soma = pesoPr1+pesoPr2+pesoTr\n",
        "  # cria uma coluna nova com o rotulo Media que contem a media ponderada, se o usuario digitou opcao S\n",
        "  df[\"Media\"] = (pesoPr1*df[\"Prova 1\"]+pesoPr2*df[\"Prova 2\"]+ pesoTr*df[\"Trabalho\"])/soma\n",
        "\n",
        "df"
      ],
      "execution_count": null,
      "outputs": []
    },
    {
      "cell_type": "markdown",
      "metadata": {
        "id": "J9jgPTnOh4dD"
      },
      "source": [
        "## Exercício 3\n",
        "Considere a planilha no link: https://drive.google.com/u/1/uc?id=1ASOWhw5tp-kUbZcIlkg5eCKwZNJt6MwQ&export=download\n",
        "\n",
        "\n",
        "Escreva o programa para:\n",
        "\n",
        "1) Ler a planilha\n",
        "\n",
        "2) Receber do usuário nome de uma coluna (Prova 1, Prova 2 ou Trabalho).\n",
        "\n",
        "3) Receber do usuário uma opção: Var, DP, Amplitude\n",
        "\n",
        "4) Se no passo 3) o usuário digitou:\n",
        "\n",
        "- Var: calcular e imprimir o valor da variância de conjunto de dados da coluna lida\n",
        "\n",
        "- DP: calcular e imprimir o valor de desvio padrão de conjunto de dados da coluna lida\n",
        "\n",
        "- Amplitude: calcular e imprimir o valor de amplitude de conjunto de dados da coluna lida\n",
        "\n",
        "- Nenhuma das opções acima: imprimir mensagem \"Erro na entrada\""
      ]
    },
    {
      "cell_type": "code",
      "metadata": {
        "id": "Jfzffb-3lZiE"
      },
      "source": [
        "import pandas as pd\n",
        "\n",
        "df = pd.read_csv(\"https://drive.google.com/u/1/uc?id=1ASOWhw5tp-kUbZcIlkg5eCKwZNJt6MwQ&export=download\")\n",
        "\n",
        "col = input(\"Digite nome da coluna: \")   # leitura da coluna\n",
        "\n",
        "opcao = input(\"Digite uma das opcoes: Var, DP ou Amplitude: \") # leitura da opcao/valor  a ser calculado\n",
        "\n",
        "if opcao==\"Var\":\n",
        "  # variancia\n",
        "  varia = df[col].var()\n",
        "  print(\"O valor da Variância de conjunto de dados da coluna\",col,\"= %.2f\"%varia)\n",
        "elif opcao==\"DP\":\n",
        "  # desvio padrao\n",
        "  dp = df[col].std()\n",
        "  print(\"O valor de Desvio Padrão de conjunto de dados da coluna\",col,\"= %.2f\"%dp)\n",
        "elif opcao==\"Amplitude\":\n",
        "  # amplitude\n",
        "  ampl = df[col].max()-df[col].min()\n",
        "  print(\"O valor de Amplitude de conjunto de dados da coluna\",col,\"= %.2f\"%ampl)\n",
        "else:\n",
        "  print(\"Erro na entrada\")\n"
      ],
      "execution_count": null,
      "outputs": []
    },
    {
      "cell_type": "markdown",
      "metadata": {
        "id": "OKVjyvSdywai"
      },
      "source": [
        "## Exercício 4"
      ]
    },
    {
      "cell_type": "markdown",
      "metadata": {
        "id": "4mlEfyYOxH_0"
      },
      "source": [
        "Considere a planilha no link\n",
        "https://drive.google.com/u/1/uc?id=1ASOWhw5tp-kUbZcIlkg5eCKwZNJt6MwQ&export=download\n",
        "\n",
        "O seu programa deve\n",
        "\n",
        "1) Ler o link da planilha\n",
        "\n",
        "2) Adicionar uma nova coluna com nome \"Nova Prova 1\" com as notas da Prova 1 ajustadas de acordo com as seguintes regras:\n",
        "\n",
        "• Se a mediana da nota de Prova 1 for < 50, adiciona-se 10 pontos para nota original da Prova 1\n",
        "\n",
        "• Caso contrário, não há nenhum ajuste (a coluna \"Nova Prova 1\" ainda deve ser criada, mas tem os mesmos valores obtidos da Prova 1).\n",
        "\n",
        "3) Imprimir a planilha inteira com a coluna \"Nova Prova 1\""
      ]
    },
    {
      "cell_type": "code",
      "metadata": {
        "id": "2JuxYwWby5NC"
      },
      "source": [
        "import pandas as pd\n",
        "\n",
        "df = pd.read_csv(\"https://drive.google.com/u/1/uc?id=1ASOWhw5tp-kUbZcIlkg5eCKwZNJt6MwQ&export=download\")\n",
        "\n",
        "med = df[\"Prova 1\"].median() # calculando mediana da Prova 1\n",
        "\n",
        "if med < 50:\n",
        "  df[\"Nova Prova 1\"] = df[\"Prova 1\"] + 10  # criando nova coluna adicionando 10 pontos as notas da Prova 1\n",
        "else:\n",
        "  df[\"Nova Prova 1\"] = df[\"Prova 1\"]       # criando nova coluna com valores iguais as da Prova 1\n",
        "\n",
        "print(df)"
      ],
      "execution_count": null,
      "outputs": []
    },
    {
      "cell_type": "markdown",
      "metadata": {
        "id": "Gh9gFYCq_ofj"
      },
      "source": [
        "## Exercício 5"
      ]
    },
    {
      "cell_type": "markdown",
      "metadata": {
        "id": "3i7oFvRz43to"
      },
      "source": [
        "Considere a planilha no link https://drive.google.com/u/1/uc?id=1ASOWhw5tp-kUbZcIlkg5eCKwZNJt6MwQ&export=download\n",
        "\n",
        "Faça um programa contendo instruções para ler a planilha e\n",
        "\n",
        "1) ler do teclado um índice aluno (valor de 0 a 99) da tabela representando um aluno da turma.\n",
        "\n",
        "2) calcular a média aritmética de Prova 1, Prova 2 e  Trabalho.\n",
        "\n",
        "\n",
        "3) imprimir as notas de aluno cujo índice foi digitado, a média aritmética (com duas casas decimais) e uma das seguintes mensagens:\n",
        "\n",
        "- \"Conceito: A ou B\", se a média está em [77,100]\n",
        "\n",
        "- \"Conceito: C ou D\", se a média está em [50,77)\n",
        "\n",
        "- \"Conceito: F\", se a média está em [0,50)\n",
        "\n",
        "**Sugestão: utilizar o comando a seguir para obter os dados da tabela df, dado o  índice_aluno:**\n",
        "\n",
        "prova1, prova2, trabalho = df[[\"Prova 1\" , \"Prova 2\" , \"Trabalho\"]].loc[indice_aluno]\n",
        "\n"
      ]
    },
    {
      "cell_type": "code",
      "metadata": {
        "id": "nnS8g5xUAaQb"
      },
      "source": [
        "import pandas as pd\n",
        "\n",
        "df = pd.read_csv(\"https://drive.google.com/u/1/uc?id=1ASOWhw5tp-kUbZcIlkg5eCKwZNJt6MwQ&export=download\")\n",
        "print(df) #imprimimos a tabela apenas para visualização\n",
        "\n",
        "indice_aluno = int(input(\"Digite o indice de aluno - numero inteiro de 0 a 99: \")) # lendo o indice de aluno, ou seja, numero da linha  (cada indice de aluno eh numero de uma linha da tabela)\n",
        "\n",
        "prova1, prova2, trabalho = df[[\"Prova 1\" , \"Prova 2\" , \"Trabalho\"]].loc[indice_aluno] # obtendo os valores (de Prova 1, Prova 2 e Trabalho) da linha ou seja indice_aluno lido\n",
        "print(\"Notas sao: Prova1 = %.2f, Prova 2 = %.2f e Trabalho = %.2f\"%(prova1,prova2,trabalho)) # imprimindo os valores obtidos\n",
        "\n",
        "med = (prova1 + prova2 + trabalho)/3   # calculando a media aritmetica de notas\n",
        "print(\"Media aritmetica = %.2f\"%med)   # imprimindo a media aritmetica\n",
        "\n",
        "# imprimindo o conceito dependendo de valor de media:\n",
        "if med < 50:\n",
        "  print(\"Conceito F\")\n",
        "elif med < 77:\n",
        "  print(\"Conceito C ou D\")\n",
        "else:\n",
        "  print(\"Conceito A ou B\")"
      ],
      "execution_count": null,
      "outputs": []
    }
  ]
}
