{
  "nbformat": 4,
  "nbformat_minor": 0,
  "metadata": {
    "colab": {
      "provenance": [],
      "authorship_tag": "ABX9TyMIyWFkVyLaU1Z1v5KWq0yd",
      "include_colab_link": true
    },
    "kernelspec": {
      "name": "python3",
      "display_name": "Python 3"
    },
    "language_info": {
      "name": "python"
    }
  },
  "cells": [
    {
      "cell_type": "markdown",
      "metadata": {
        "id": "view-in-github",
        "colab_type": "text"
      },
      "source": [
        "<a href=\"https://colab.research.google.com/github/bianca-coutinho/exercicios-python/blob/main/exerc%C3%ADcios_de_c%C3%A1lculos_e_convers%C3%B5es.ipynb\" target=\"_parent\"><img src=\"https://colab.research.google.com/assets/colab-badge.svg\" alt=\"Open In Colab\"/></a>"
      ]
    },
    {
      "cell_type": "markdown",
      "source": [
        "Leia 2 valores de ponto flutuante de dupla precisão A e B, que correspondem a 2 notas de um aluno. A seguir, calcule a média do aluno, sabendo que a nota A tem peso 3.5 e a nota B tem peso 7.5 (A soma dos pesos portanto é 11). Assuma que cada nota pode ir de 0 até 10.0, sempre com uma casa decimal.\n",
        "\n",
        "Entrada\n",
        "O arquivo de entrada contém 2 valores com uma casa decimal cada um.\n",
        "\n",
        "Saída\n",
        "Imprima a mensagem \"MEDIA\" e a média do aluno conforme exemplo abaixo, com 5 dígitos após o ponto decimal e com um espaço em branco antes e depois da igualdade. Utilize variáveis de dupla precisão (double) e como todos os problemas, não esqueça de imprimir o fim de linha após o resultado, caso contrário, você receberá \"Presentation Error\"."
      ],
      "metadata": {
        "id": "UA94a8yTB6f7"
      }
    },
    {
      "cell_type": "code",
      "source": [
        "def main():\n",
        "    A = float( input() )\n",
        "    B = float( input() )\n",
        "    M = (A * 3.5 + B * 7.5) / 11\n",
        "    print( \"MEDIA = %.5f\" % (M) )\n",
        "\n",
        "main()"
      ],
      "metadata": {
        "id": "UEf3yDY7B_da"
      },
      "execution_count": null,
      "outputs": []
    },
    {
      "cell_type": "markdown",
      "source": [
        "Leia um valor inteiro, que é o tempo de duração em segundos de um determinado evento em uma fábrica, e informe-o expresso no formato horas:minutos:segundos.\n",
        "\n",
        "Entrada\n",
        "O arquivo de entrada contém um valor inteiro N.\n",
        "\n",
        "Saída\n",
        "Imprima o tempo lido no arquivo de entrada (segundos), convertido para horas:minutos:segundos, conforme exemplo fornecido."
      ],
      "metadata": {
        "id": "P5nRfPHRCqcz"
      }
    },
    {
      "cell_type": "code",
      "source": [
        "def main():\n",
        "    # Lemos o total de segundos\n",
        "    total = int( input() )\n",
        "    # uma hora tem 3600 segundos, vamos a calcular a quantidade de horas\n",
        "    horas = total // 3600\n",
        "    # o resto deve ser convertido a minutos e segundos\n",
        "    total = total % 3600\n",
        "    # um minuto tem 60 segundos, calculamos a quantidade de minutos\n",
        "    minutos = total // 60\n",
        "    # o resto é a quantidade de segundos\n",
        "    segundos = total % 60\n",
        "\n",
        "    print(\"%d:%d:%d\" % (horas, minutos, segundos))\n",
        "\n",
        "main()\n"
      ],
      "metadata": {
        "id": "p7GjauqYDFxa"
      },
      "execution_count": null,
      "outputs": []
    },
    {
      "cell_type": "markdown",
      "source": [
        "Bem-vindo à 3ạ Maratona de Programação Júnior da UFFS. Esperamos sinceramente que as próximas horas sejam muito produtivas para você, que você faça muitos balões e que, acima de tudo, você se divirta! Lembre que você sempre pode pedir esclarecimento quando não entender direito a descrição de um problema. Lembre também que às 17:30 os juízes automáticos serão desligados e a competição entrará em modo blind, de modo que todas as submissões neste período só começarão a ser julgadas às 18:10. Por favor, fique conosco até o fim da competição, trabalhando nas soluções dos problemas até o último minuto, pois, enquanto a competição ainda está ocorrendo, sempre há esperança!\n",
        "\n",
        "E foi esperança que motivou a Vovó Zazá, uma senhora de 72 anos, a realizar seu sonho de começar um curso universitário. Ela está fascinada com tudo o que diz respeito à Universidade: com as aulas, com a biblioteca, com os projetos de pesquisa e extensão, com o restaurante universitário, mas especialmente com a carteirinha de estudante que ela pode utilizar para pagar meia entrada no cinema. Semana passada, Vovó Zazá e seus colegas de turma foram ao cinema assistir a um filme, mas ficaram estarrecidos com o aumento do preço do ingresso. Revoltados, eles decidiram fazer uma manifestação contra o sistema capitalista opressor, agendada para amanhã na Praça General Bertaso. Vovó Zazá quer colaborar com o movimento fazendo um cartaz com a seguinte palavra de ordem:\n",
        "\n",
        "QUE ABSURDO! O PREÇO DO CINEMA SUBIU … % !!\n",
        "\n",
        "Mas ela não é muito boa em Matemática, e está solicitando sua ajuda para calcular a porcentagem de que precisa para completar o cartaz.\n",
        "\n",
        "Entrada\n",
        "A única linha da entrada consiste de dois valores A e B (0.00 < A ≤ B ≤ 1000.00), os quais, fornecidos com exatos dois dígitos após o ponto separador decimal, representam respectivamente o valor antigo e o valor novo do ingresso do cinema.\n",
        "\n",
        "Saída\n",
        "A única linha da saída deve consistir unicamente de um valor, que represente como uma porcentagem o aumento do valor do ingresso. O valor deve ser acompanhado do símbolo % e conter exatos dois dígitos após o ponto separador decimal."
      ],
      "metadata": {
        "id": "8LR7RvW6DH_J"
      }
    },
    {
      "cell_type": "code",
      "source": [
        "def main():\n",
        "    # Leitura dos dados\n",
        "    linha = input()\n",
        "    entrada = linha.split()\n",
        "    A = float( entrada[0] )\n",
        "    B = float( entrada[1] )\n",
        "    # Calculamos quanto aumentou o preço\n",
        "    D = B - A\n",
        "    # Achamos a porcentagem\n",
        "    resultado = D / A * 100.0\n",
        "   \t# Para imprimir o caractere '%' eh preciso escrever '%%' no formato da saída\n",
        "    print(\"%.2f%%\" % (resultado))\n",
        "\n",
        "main()\n"
      ],
      "metadata": {
        "id": "yzGHl5qmDPS6"
      },
      "execution_count": null,
      "outputs": []
    },
    {
      "cell_type": "markdown",
      "source": [
        "Escreva um programa que leia quatro valores: o valor da primeira amostra (X1), o peso da primeira amostra (P1), o valor da segunda amostra (X2) e o peso da segunda amostra (P2). O programa deve calcular a média ponderada M das duas amostras utilizando a fórmula M = (X1 * P1 + X2 * P2) / (P1 + P2). Em seguida, o programa deve exibir o valor de M com quatro casas decimais."
      ],
      "metadata": {
        "id": "e0UcjLMSmuNB"
      }
    },
    {
      "cell_type": "code",
      "source": [
        "def main():\n",
        "  # Leitura dos dados\n",
        "    X1 = float( input() )\n",
        "    P1 = float( input() )\n",
        "    X2 = float( input() )\n",
        "    P2 = float( input() )\n",
        "    # calculo da media ponderada\n",
        "    M = (X1 * P1 + X2 * P2) / (P1 + P2)\n",
        "    # para imprimir com quatro casas decimais eh preciso escrever \"%.4f\"\n",
        "    print( \"%.4f\" % (M) )\n",
        "\n",
        "main()"
      ],
      "metadata": {
        "id": "mk_fxwBNQ-Xy"
      },
      "execution_count": null,
      "outputs": []
    }
  ]
}